{
 "cells": [
  {
   "cell_type": "code",
   "execution_count": 1,
   "id": "f193fde7",
   "metadata": {},
   "outputs": [],
   "source": [
    "#pip install tensorflow"
   ]
  },
  {
   "cell_type": "code",
   "execution_count": 2,
   "id": "6ed06c28",
   "metadata": {},
   "outputs": [],
   "source": [
    "import tensorflow as tf\n",
    "import numpy as np\n",
    "import pandas as pd\n",
    "import warnings \n",
    "warnings.filterwarnings('ignore')"
   ]
  },
  {
   "cell_type": "code",
   "execution_count": 3,
   "id": "d743c500",
   "metadata": {},
   "outputs": [
    {
     "data": {
      "text/plain": [
       "'2.11.0'"
      ]
     },
     "execution_count": 3,
     "metadata": {},
     "output_type": "execute_result"
    }
   ],
   "source": [
    "tf.__version__"
   ]
  },
  {
   "cell_type": "code",
   "execution_count": 4,
   "id": "594a0ced",
   "metadata": {},
   "outputs": [
    {
     "data": {
      "text/html": [
       "<div>\n",
       "<style scoped>\n",
       "    .dataframe tbody tr th:only-of-type {\n",
       "        vertical-align: middle;\n",
       "    }\n",
       "\n",
       "    .dataframe tbody tr th {\n",
       "        vertical-align: top;\n",
       "    }\n",
       "\n",
       "    .dataframe thead th {\n",
       "        text-align: right;\n",
       "    }\n",
       "</style>\n",
       "<table border=\"1\" class=\"dataframe\">\n",
       "  <thead>\n",
       "    <tr style=\"text-align: right;\">\n",
       "      <th></th>\n",
       "      <th>AT</th>\n",
       "      <th>AP</th>\n",
       "      <th>AH</th>\n",
       "      <th>AFDP</th>\n",
       "      <th>GTEP</th>\n",
       "      <th>TIT</th>\n",
       "      <th>TAT</th>\n",
       "      <th>TEY</th>\n",
       "      <th>CDP</th>\n",
       "      <th>CO</th>\n",
       "      <th>NOX</th>\n",
       "    </tr>\n",
       "  </thead>\n",
       "  <tbody>\n",
       "    <tr>\n",
       "      <th>0</th>\n",
       "      <td>6.8594</td>\n",
       "      <td>1007.9</td>\n",
       "      <td>96.799</td>\n",
       "      <td>3.5000</td>\n",
       "      <td>19.663</td>\n",
       "      <td>1059.2</td>\n",
       "      <td>550.00</td>\n",
       "      <td>114.70</td>\n",
       "      <td>10.605</td>\n",
       "      <td>3.1547</td>\n",
       "      <td>82.722</td>\n",
       "    </tr>\n",
       "    <tr>\n",
       "      <th>1</th>\n",
       "      <td>6.7850</td>\n",
       "      <td>1008.4</td>\n",
       "      <td>97.118</td>\n",
       "      <td>3.4998</td>\n",
       "      <td>19.728</td>\n",
       "      <td>1059.3</td>\n",
       "      <td>550.00</td>\n",
       "      <td>114.72</td>\n",
       "      <td>10.598</td>\n",
       "      <td>3.2363</td>\n",
       "      <td>82.776</td>\n",
       "    </tr>\n",
       "    <tr>\n",
       "      <th>2</th>\n",
       "      <td>6.8977</td>\n",
       "      <td>1008.8</td>\n",
       "      <td>95.939</td>\n",
       "      <td>3.4824</td>\n",
       "      <td>19.779</td>\n",
       "      <td>1059.4</td>\n",
       "      <td>549.87</td>\n",
       "      <td>114.71</td>\n",
       "      <td>10.601</td>\n",
       "      <td>3.2012</td>\n",
       "      <td>82.468</td>\n",
       "    </tr>\n",
       "    <tr>\n",
       "      <th>3</th>\n",
       "      <td>7.0569</td>\n",
       "      <td>1009.2</td>\n",
       "      <td>95.249</td>\n",
       "      <td>3.4805</td>\n",
       "      <td>19.792</td>\n",
       "      <td>1059.6</td>\n",
       "      <td>549.99</td>\n",
       "      <td>114.72</td>\n",
       "      <td>10.606</td>\n",
       "      <td>3.1923</td>\n",
       "      <td>82.670</td>\n",
       "    </tr>\n",
       "    <tr>\n",
       "      <th>4</th>\n",
       "      <td>7.3978</td>\n",
       "      <td>1009.7</td>\n",
       "      <td>95.150</td>\n",
       "      <td>3.4976</td>\n",
       "      <td>19.765</td>\n",
       "      <td>1059.7</td>\n",
       "      <td>549.98</td>\n",
       "      <td>114.72</td>\n",
       "      <td>10.612</td>\n",
       "      <td>3.2484</td>\n",
       "      <td>82.311</td>\n",
       "    </tr>\n",
       "    <tr>\n",
       "      <th>...</th>\n",
       "      <td>...</td>\n",
       "      <td>...</td>\n",
       "      <td>...</td>\n",
       "      <td>...</td>\n",
       "      <td>...</td>\n",
       "      <td>...</td>\n",
       "      <td>...</td>\n",
       "      <td>...</td>\n",
       "      <td>...</td>\n",
       "      <td>...</td>\n",
       "      <td>...</td>\n",
       "    </tr>\n",
       "    <tr>\n",
       "      <th>15034</th>\n",
       "      <td>9.0301</td>\n",
       "      <td>1005.6</td>\n",
       "      <td>98.460</td>\n",
       "      <td>3.5421</td>\n",
       "      <td>19.164</td>\n",
       "      <td>1049.7</td>\n",
       "      <td>546.21</td>\n",
       "      <td>111.61</td>\n",
       "      <td>10.400</td>\n",
       "      <td>4.5186</td>\n",
       "      <td>79.559</td>\n",
       "    </tr>\n",
       "    <tr>\n",
       "      <th>15035</th>\n",
       "      <td>7.8879</td>\n",
       "      <td>1005.9</td>\n",
       "      <td>99.093</td>\n",
       "      <td>3.5059</td>\n",
       "      <td>19.414</td>\n",
       "      <td>1046.3</td>\n",
       "      <td>543.22</td>\n",
       "      <td>111.78</td>\n",
       "      <td>10.433</td>\n",
       "      <td>4.8470</td>\n",
       "      <td>79.917</td>\n",
       "    </tr>\n",
       "    <tr>\n",
       "      <th>15036</th>\n",
       "      <td>7.2647</td>\n",
       "      <td>1006.3</td>\n",
       "      <td>99.496</td>\n",
       "      <td>3.4770</td>\n",
       "      <td>19.530</td>\n",
       "      <td>1037.7</td>\n",
       "      <td>537.32</td>\n",
       "      <td>110.19</td>\n",
       "      <td>10.483</td>\n",
       "      <td>7.9632</td>\n",
       "      <td>90.912</td>\n",
       "    </tr>\n",
       "    <tr>\n",
       "      <th>15037</th>\n",
       "      <td>7.0060</td>\n",
       "      <td>1006.8</td>\n",
       "      <td>99.008</td>\n",
       "      <td>3.4486</td>\n",
       "      <td>19.377</td>\n",
       "      <td>1043.2</td>\n",
       "      <td>541.24</td>\n",
       "      <td>110.74</td>\n",
       "      <td>10.533</td>\n",
       "      <td>6.2494</td>\n",
       "      <td>93.227</td>\n",
       "    </tr>\n",
       "    <tr>\n",
       "      <th>15038</th>\n",
       "      <td>6.9279</td>\n",
       "      <td>1007.2</td>\n",
       "      <td>97.533</td>\n",
       "      <td>3.4275</td>\n",
       "      <td>19.306</td>\n",
       "      <td>1049.9</td>\n",
       "      <td>545.85</td>\n",
       "      <td>111.58</td>\n",
       "      <td>10.583</td>\n",
       "      <td>4.9816</td>\n",
       "      <td>92.498</td>\n",
       "    </tr>\n",
       "  </tbody>\n",
       "</table>\n",
       "<p>15039 rows × 11 columns</p>\n",
       "</div>"
      ],
      "text/plain": [
       "           AT      AP      AH    AFDP    GTEP     TIT     TAT     TEY     CDP  \\\n",
       "0      6.8594  1007.9  96.799  3.5000  19.663  1059.2  550.00  114.70  10.605   \n",
       "1      6.7850  1008.4  97.118  3.4998  19.728  1059.3  550.00  114.72  10.598   \n",
       "2      6.8977  1008.8  95.939  3.4824  19.779  1059.4  549.87  114.71  10.601   \n",
       "3      7.0569  1009.2  95.249  3.4805  19.792  1059.6  549.99  114.72  10.606   \n",
       "4      7.3978  1009.7  95.150  3.4976  19.765  1059.7  549.98  114.72  10.612   \n",
       "...       ...     ...     ...     ...     ...     ...     ...     ...     ...   \n",
       "15034  9.0301  1005.6  98.460  3.5421  19.164  1049.7  546.21  111.61  10.400   \n",
       "15035  7.8879  1005.9  99.093  3.5059  19.414  1046.3  543.22  111.78  10.433   \n",
       "15036  7.2647  1006.3  99.496  3.4770  19.530  1037.7  537.32  110.19  10.483   \n",
       "15037  7.0060  1006.8  99.008  3.4486  19.377  1043.2  541.24  110.74  10.533   \n",
       "15038  6.9279  1007.2  97.533  3.4275  19.306  1049.9  545.85  111.58  10.583   \n",
       "\n",
       "           CO     NOX  \n",
       "0      3.1547  82.722  \n",
       "1      3.2363  82.776  \n",
       "2      3.2012  82.468  \n",
       "3      3.1923  82.670  \n",
       "4      3.2484  82.311  \n",
       "...       ...     ...  \n",
       "15034  4.5186  79.559  \n",
       "15035  4.8470  79.917  \n",
       "15036  7.9632  90.912  \n",
       "15037  6.2494  93.227  \n",
       "15038  4.9816  92.498  \n",
       "\n",
       "[15039 rows x 11 columns]"
      ]
     },
     "execution_count": 4,
     "metadata": {},
     "output_type": "execute_result"
    }
   ],
   "source": [
    "gt = pd.read_csv(\"gas_turbines.csv\")\n",
    "gt"
   ]
  },
  {
   "cell_type": "code",
   "execution_count": 5,
   "id": "ce3c30a2",
   "metadata": {},
   "outputs": [
    {
     "data": {
      "text/plain": [
       "(15039, 11)"
      ]
     },
     "execution_count": 5,
     "metadata": {},
     "output_type": "execute_result"
    }
   ],
   "source": [
    "gt.shape"
   ]
  },
  {
   "cell_type": "code",
   "execution_count": null,
   "id": "2566976c",
   "metadata": {},
   "outputs": [],
   "source": []
  },
  {
   "cell_type": "code",
   "execution_count": 6,
   "id": "3d219c94",
   "metadata": {},
   "outputs": [
    {
     "data": {
      "text/plain": [
       "Index(['AT', 'AP', 'AH', 'AFDP', 'GTEP', 'TIT', 'TAT', 'TEY', 'CDP', 'CO',\n",
       "       'NOX'],\n",
       "      dtype='object')"
      ]
     },
     "execution_count": 6,
     "metadata": {},
     "output_type": "execute_result"
    }
   ],
   "source": [
    "gt.columns"
   ]
  },
  {
   "cell_type": "code",
   "execution_count": 7,
   "id": "69f6b6e7",
   "metadata": {},
   "outputs": [],
   "source": [
    "#df.loc[:,['Maths Score','Name','Sr.no']]\n",
    "gt=gt.loc[:,['AT', 'AP', 'AH', 'AFDP', 'GTEP', 'TIT', 'TAT', 'CDP', 'CO',\n",
    "       'NOX','TEY']]"
   ]
  },
  {
   "cell_type": "code",
   "execution_count": 8,
   "id": "e93d21c9",
   "metadata": {},
   "outputs": [
    {
     "data": {
      "text/html": [
       "<div>\n",
       "<style scoped>\n",
       "    .dataframe tbody tr th:only-of-type {\n",
       "        vertical-align: middle;\n",
       "    }\n",
       "\n",
       "    .dataframe tbody tr th {\n",
       "        vertical-align: top;\n",
       "    }\n",
       "\n",
       "    .dataframe thead th {\n",
       "        text-align: right;\n",
       "    }\n",
       "</style>\n",
       "<table border=\"1\" class=\"dataframe\">\n",
       "  <thead>\n",
       "    <tr style=\"text-align: right;\">\n",
       "      <th></th>\n",
       "      <th>AT</th>\n",
       "      <th>AP</th>\n",
       "      <th>AH</th>\n",
       "      <th>AFDP</th>\n",
       "      <th>GTEP</th>\n",
       "      <th>TIT</th>\n",
       "      <th>TAT</th>\n",
       "      <th>CDP</th>\n",
       "      <th>CO</th>\n",
       "      <th>NOX</th>\n",
       "      <th>TEY</th>\n",
       "    </tr>\n",
       "  </thead>\n",
       "  <tbody>\n",
       "    <tr>\n",
       "      <th>0</th>\n",
       "      <td>6.8594</td>\n",
       "      <td>1007.9</td>\n",
       "      <td>96.799</td>\n",
       "      <td>3.5000</td>\n",
       "      <td>19.663</td>\n",
       "      <td>1059.2</td>\n",
       "      <td>550.00</td>\n",
       "      <td>10.605</td>\n",
       "      <td>3.1547</td>\n",
       "      <td>82.722</td>\n",
       "      <td>114.70</td>\n",
       "    </tr>\n",
       "    <tr>\n",
       "      <th>1</th>\n",
       "      <td>6.7850</td>\n",
       "      <td>1008.4</td>\n",
       "      <td>97.118</td>\n",
       "      <td>3.4998</td>\n",
       "      <td>19.728</td>\n",
       "      <td>1059.3</td>\n",
       "      <td>550.00</td>\n",
       "      <td>10.598</td>\n",
       "      <td>3.2363</td>\n",
       "      <td>82.776</td>\n",
       "      <td>114.72</td>\n",
       "    </tr>\n",
       "    <tr>\n",
       "      <th>2</th>\n",
       "      <td>6.8977</td>\n",
       "      <td>1008.8</td>\n",
       "      <td>95.939</td>\n",
       "      <td>3.4824</td>\n",
       "      <td>19.779</td>\n",
       "      <td>1059.4</td>\n",
       "      <td>549.87</td>\n",
       "      <td>10.601</td>\n",
       "      <td>3.2012</td>\n",
       "      <td>82.468</td>\n",
       "      <td>114.71</td>\n",
       "    </tr>\n",
       "    <tr>\n",
       "      <th>3</th>\n",
       "      <td>7.0569</td>\n",
       "      <td>1009.2</td>\n",
       "      <td>95.249</td>\n",
       "      <td>3.4805</td>\n",
       "      <td>19.792</td>\n",
       "      <td>1059.6</td>\n",
       "      <td>549.99</td>\n",
       "      <td>10.606</td>\n",
       "      <td>3.1923</td>\n",
       "      <td>82.670</td>\n",
       "      <td>114.72</td>\n",
       "    </tr>\n",
       "    <tr>\n",
       "      <th>4</th>\n",
       "      <td>7.3978</td>\n",
       "      <td>1009.7</td>\n",
       "      <td>95.150</td>\n",
       "      <td>3.4976</td>\n",
       "      <td>19.765</td>\n",
       "      <td>1059.7</td>\n",
       "      <td>549.98</td>\n",
       "      <td>10.612</td>\n",
       "      <td>3.2484</td>\n",
       "      <td>82.311</td>\n",
       "      <td>114.72</td>\n",
       "    </tr>\n",
       "    <tr>\n",
       "      <th>...</th>\n",
       "      <td>...</td>\n",
       "      <td>...</td>\n",
       "      <td>...</td>\n",
       "      <td>...</td>\n",
       "      <td>...</td>\n",
       "      <td>...</td>\n",
       "      <td>...</td>\n",
       "      <td>...</td>\n",
       "      <td>...</td>\n",
       "      <td>...</td>\n",
       "      <td>...</td>\n",
       "    </tr>\n",
       "    <tr>\n",
       "      <th>15034</th>\n",
       "      <td>9.0301</td>\n",
       "      <td>1005.6</td>\n",
       "      <td>98.460</td>\n",
       "      <td>3.5421</td>\n",
       "      <td>19.164</td>\n",
       "      <td>1049.7</td>\n",
       "      <td>546.21</td>\n",
       "      <td>10.400</td>\n",
       "      <td>4.5186</td>\n",
       "      <td>79.559</td>\n",
       "      <td>111.61</td>\n",
       "    </tr>\n",
       "    <tr>\n",
       "      <th>15035</th>\n",
       "      <td>7.8879</td>\n",
       "      <td>1005.9</td>\n",
       "      <td>99.093</td>\n",
       "      <td>3.5059</td>\n",
       "      <td>19.414</td>\n",
       "      <td>1046.3</td>\n",
       "      <td>543.22</td>\n",
       "      <td>10.433</td>\n",
       "      <td>4.8470</td>\n",
       "      <td>79.917</td>\n",
       "      <td>111.78</td>\n",
       "    </tr>\n",
       "    <tr>\n",
       "      <th>15036</th>\n",
       "      <td>7.2647</td>\n",
       "      <td>1006.3</td>\n",
       "      <td>99.496</td>\n",
       "      <td>3.4770</td>\n",
       "      <td>19.530</td>\n",
       "      <td>1037.7</td>\n",
       "      <td>537.32</td>\n",
       "      <td>10.483</td>\n",
       "      <td>7.9632</td>\n",
       "      <td>90.912</td>\n",
       "      <td>110.19</td>\n",
       "    </tr>\n",
       "    <tr>\n",
       "      <th>15037</th>\n",
       "      <td>7.0060</td>\n",
       "      <td>1006.8</td>\n",
       "      <td>99.008</td>\n",
       "      <td>3.4486</td>\n",
       "      <td>19.377</td>\n",
       "      <td>1043.2</td>\n",
       "      <td>541.24</td>\n",
       "      <td>10.533</td>\n",
       "      <td>6.2494</td>\n",
       "      <td>93.227</td>\n",
       "      <td>110.74</td>\n",
       "    </tr>\n",
       "    <tr>\n",
       "      <th>15038</th>\n",
       "      <td>6.9279</td>\n",
       "      <td>1007.2</td>\n",
       "      <td>97.533</td>\n",
       "      <td>3.4275</td>\n",
       "      <td>19.306</td>\n",
       "      <td>1049.9</td>\n",
       "      <td>545.85</td>\n",
       "      <td>10.583</td>\n",
       "      <td>4.9816</td>\n",
       "      <td>92.498</td>\n",
       "      <td>111.58</td>\n",
       "    </tr>\n",
       "  </tbody>\n",
       "</table>\n",
       "<p>15039 rows × 11 columns</p>\n",
       "</div>"
      ],
      "text/plain": [
       "           AT      AP      AH    AFDP    GTEP     TIT     TAT     CDP      CO  \\\n",
       "0      6.8594  1007.9  96.799  3.5000  19.663  1059.2  550.00  10.605  3.1547   \n",
       "1      6.7850  1008.4  97.118  3.4998  19.728  1059.3  550.00  10.598  3.2363   \n",
       "2      6.8977  1008.8  95.939  3.4824  19.779  1059.4  549.87  10.601  3.2012   \n",
       "3      7.0569  1009.2  95.249  3.4805  19.792  1059.6  549.99  10.606  3.1923   \n",
       "4      7.3978  1009.7  95.150  3.4976  19.765  1059.7  549.98  10.612  3.2484   \n",
       "...       ...     ...     ...     ...     ...     ...     ...     ...     ...   \n",
       "15034  9.0301  1005.6  98.460  3.5421  19.164  1049.7  546.21  10.400  4.5186   \n",
       "15035  7.8879  1005.9  99.093  3.5059  19.414  1046.3  543.22  10.433  4.8470   \n",
       "15036  7.2647  1006.3  99.496  3.4770  19.530  1037.7  537.32  10.483  7.9632   \n",
       "15037  7.0060  1006.8  99.008  3.4486  19.377  1043.2  541.24  10.533  6.2494   \n",
       "15038  6.9279  1007.2  97.533  3.4275  19.306  1049.9  545.85  10.583  4.9816   \n",
       "\n",
       "          NOX     TEY  \n",
       "0      82.722  114.70  \n",
       "1      82.776  114.72  \n",
       "2      82.468  114.71  \n",
       "3      82.670  114.72  \n",
       "4      82.311  114.72  \n",
       "...       ...     ...  \n",
       "15034  79.559  111.61  \n",
       "15035  79.917  111.78  \n",
       "15036  90.912  110.19  \n",
       "15037  93.227  110.74  \n",
       "15038  92.498  111.58  \n",
       "\n",
       "[15039 rows x 11 columns]"
      ]
     },
     "execution_count": 8,
     "metadata": {},
     "output_type": "execute_result"
    }
   ],
   "source": [
    "gt"
   ]
  },
  {
   "cell_type": "code",
   "execution_count": 9,
   "id": "af875093",
   "metadata": {},
   "outputs": [
    {
     "data": {
      "text/html": [
       "<div>\n",
       "<style scoped>\n",
       "    .dataframe tbody tr th:only-of-type {\n",
       "        vertical-align: middle;\n",
       "    }\n",
       "\n",
       "    .dataframe tbody tr th {\n",
       "        vertical-align: top;\n",
       "    }\n",
       "\n",
       "    .dataframe thead th {\n",
       "        text-align: right;\n",
       "    }\n",
       "</style>\n",
       "<table border=\"1\" class=\"dataframe\">\n",
       "  <thead>\n",
       "    <tr style=\"text-align: right;\">\n",
       "      <th></th>\n",
       "      <th>AT</th>\n",
       "      <th>AP</th>\n",
       "      <th>AH</th>\n",
       "      <th>AFDP</th>\n",
       "      <th>GTEP</th>\n",
       "      <th>TIT</th>\n",
       "      <th>TAT</th>\n",
       "      <th>CDP</th>\n",
       "      <th>CO</th>\n",
       "      <th>NOX</th>\n",
       "    </tr>\n",
       "  </thead>\n",
       "  <tbody>\n",
       "    <tr>\n",
       "      <th>0</th>\n",
       "      <td>6.8594</td>\n",
       "      <td>1007.9</td>\n",
       "      <td>96.799</td>\n",
       "      <td>3.5000</td>\n",
       "      <td>19.663</td>\n",
       "      <td>1059.2</td>\n",
       "      <td>550.00</td>\n",
       "      <td>10.605</td>\n",
       "      <td>3.1547</td>\n",
       "      <td>82.722</td>\n",
       "    </tr>\n",
       "    <tr>\n",
       "      <th>1</th>\n",
       "      <td>6.7850</td>\n",
       "      <td>1008.4</td>\n",
       "      <td>97.118</td>\n",
       "      <td>3.4998</td>\n",
       "      <td>19.728</td>\n",
       "      <td>1059.3</td>\n",
       "      <td>550.00</td>\n",
       "      <td>10.598</td>\n",
       "      <td>3.2363</td>\n",
       "      <td>82.776</td>\n",
       "    </tr>\n",
       "    <tr>\n",
       "      <th>2</th>\n",
       "      <td>6.8977</td>\n",
       "      <td>1008.8</td>\n",
       "      <td>95.939</td>\n",
       "      <td>3.4824</td>\n",
       "      <td>19.779</td>\n",
       "      <td>1059.4</td>\n",
       "      <td>549.87</td>\n",
       "      <td>10.601</td>\n",
       "      <td>3.2012</td>\n",
       "      <td>82.468</td>\n",
       "    </tr>\n",
       "    <tr>\n",
       "      <th>3</th>\n",
       "      <td>7.0569</td>\n",
       "      <td>1009.2</td>\n",
       "      <td>95.249</td>\n",
       "      <td>3.4805</td>\n",
       "      <td>19.792</td>\n",
       "      <td>1059.6</td>\n",
       "      <td>549.99</td>\n",
       "      <td>10.606</td>\n",
       "      <td>3.1923</td>\n",
       "      <td>82.670</td>\n",
       "    </tr>\n",
       "    <tr>\n",
       "      <th>4</th>\n",
       "      <td>7.3978</td>\n",
       "      <td>1009.7</td>\n",
       "      <td>95.150</td>\n",
       "      <td>3.4976</td>\n",
       "      <td>19.765</td>\n",
       "      <td>1059.7</td>\n",
       "      <td>549.98</td>\n",
       "      <td>10.612</td>\n",
       "      <td>3.2484</td>\n",
       "      <td>82.311</td>\n",
       "    </tr>\n",
       "    <tr>\n",
       "      <th>...</th>\n",
       "      <td>...</td>\n",
       "      <td>...</td>\n",
       "      <td>...</td>\n",
       "      <td>...</td>\n",
       "      <td>...</td>\n",
       "      <td>...</td>\n",
       "      <td>...</td>\n",
       "      <td>...</td>\n",
       "      <td>...</td>\n",
       "      <td>...</td>\n",
       "    </tr>\n",
       "    <tr>\n",
       "      <th>15034</th>\n",
       "      <td>9.0301</td>\n",
       "      <td>1005.6</td>\n",
       "      <td>98.460</td>\n",
       "      <td>3.5421</td>\n",
       "      <td>19.164</td>\n",
       "      <td>1049.7</td>\n",
       "      <td>546.21</td>\n",
       "      <td>10.400</td>\n",
       "      <td>4.5186</td>\n",
       "      <td>79.559</td>\n",
       "    </tr>\n",
       "    <tr>\n",
       "      <th>15035</th>\n",
       "      <td>7.8879</td>\n",
       "      <td>1005.9</td>\n",
       "      <td>99.093</td>\n",
       "      <td>3.5059</td>\n",
       "      <td>19.414</td>\n",
       "      <td>1046.3</td>\n",
       "      <td>543.22</td>\n",
       "      <td>10.433</td>\n",
       "      <td>4.8470</td>\n",
       "      <td>79.917</td>\n",
       "    </tr>\n",
       "    <tr>\n",
       "      <th>15036</th>\n",
       "      <td>7.2647</td>\n",
       "      <td>1006.3</td>\n",
       "      <td>99.496</td>\n",
       "      <td>3.4770</td>\n",
       "      <td>19.530</td>\n",
       "      <td>1037.7</td>\n",
       "      <td>537.32</td>\n",
       "      <td>10.483</td>\n",
       "      <td>7.9632</td>\n",
       "      <td>90.912</td>\n",
       "    </tr>\n",
       "    <tr>\n",
       "      <th>15037</th>\n",
       "      <td>7.0060</td>\n",
       "      <td>1006.8</td>\n",
       "      <td>99.008</td>\n",
       "      <td>3.4486</td>\n",
       "      <td>19.377</td>\n",
       "      <td>1043.2</td>\n",
       "      <td>541.24</td>\n",
       "      <td>10.533</td>\n",
       "      <td>6.2494</td>\n",
       "      <td>93.227</td>\n",
       "    </tr>\n",
       "    <tr>\n",
       "      <th>15038</th>\n",
       "      <td>6.9279</td>\n",
       "      <td>1007.2</td>\n",
       "      <td>97.533</td>\n",
       "      <td>3.4275</td>\n",
       "      <td>19.306</td>\n",
       "      <td>1049.9</td>\n",
       "      <td>545.85</td>\n",
       "      <td>10.583</td>\n",
       "      <td>4.9816</td>\n",
       "      <td>92.498</td>\n",
       "    </tr>\n",
       "  </tbody>\n",
       "</table>\n",
       "<p>15039 rows × 10 columns</p>\n",
       "</div>"
      ],
      "text/plain": [
       "           AT      AP      AH    AFDP    GTEP     TIT     TAT     CDP      CO  \\\n",
       "0      6.8594  1007.9  96.799  3.5000  19.663  1059.2  550.00  10.605  3.1547   \n",
       "1      6.7850  1008.4  97.118  3.4998  19.728  1059.3  550.00  10.598  3.2363   \n",
       "2      6.8977  1008.8  95.939  3.4824  19.779  1059.4  549.87  10.601  3.2012   \n",
       "3      7.0569  1009.2  95.249  3.4805  19.792  1059.6  549.99  10.606  3.1923   \n",
       "4      7.3978  1009.7  95.150  3.4976  19.765  1059.7  549.98  10.612  3.2484   \n",
       "...       ...     ...     ...     ...     ...     ...     ...     ...     ...   \n",
       "15034  9.0301  1005.6  98.460  3.5421  19.164  1049.7  546.21  10.400  4.5186   \n",
       "15035  7.8879  1005.9  99.093  3.5059  19.414  1046.3  543.22  10.433  4.8470   \n",
       "15036  7.2647  1006.3  99.496  3.4770  19.530  1037.7  537.32  10.483  7.9632   \n",
       "15037  7.0060  1006.8  99.008  3.4486  19.377  1043.2  541.24  10.533  6.2494   \n",
       "15038  6.9279  1007.2  97.533  3.4275  19.306  1049.9  545.85  10.583  4.9816   \n",
       "\n",
       "          NOX  \n",
       "0      82.722  \n",
       "1      82.776  \n",
       "2      82.468  \n",
       "3      82.670  \n",
       "4      82.311  \n",
       "...       ...  \n",
       "15034  79.559  \n",
       "15035  79.917  \n",
       "15036  90.912  \n",
       "15037  93.227  \n",
       "15038  92.498  \n",
       "\n",
       "[15039 rows x 10 columns]"
      ]
     },
     "execution_count": 9,
     "metadata": {},
     "output_type": "execute_result"
    }
   ],
   "source": [
    "x = gt.iloc[:,0:-1]\n",
    "x"
   ]
  },
  {
   "cell_type": "code",
   "execution_count": 10,
   "id": "6d0b822d",
   "metadata": {},
   "outputs": [
    {
     "data": {
      "text/plain": [
       "0        114.70\n",
       "1        114.72\n",
       "2        114.71\n",
       "3        114.72\n",
       "4        114.72\n",
       "          ...  \n",
       "15034    111.61\n",
       "15035    111.78\n",
       "15036    110.19\n",
       "15037    110.74\n",
       "15038    111.58\n",
       "Name: TEY, Length: 15039, dtype: float64"
      ]
     },
     "execution_count": 10,
     "metadata": {},
     "output_type": "execute_result"
    }
   ],
   "source": [
    "y = gt.iloc[:,-1]\n",
    "y"
   ]
  },
  {
   "cell_type": "code",
   "execution_count": 11,
   "id": "c7724e4b",
   "metadata": {},
   "outputs": [
    {
     "data": {
      "text/plain": [
       "(15039, 11)"
      ]
     },
     "execution_count": 11,
     "metadata": {},
     "output_type": "execute_result"
    }
   ],
   "source": [
    "gt.shape"
   ]
  },
  {
   "cell_type": "code",
   "execution_count": 12,
   "id": "61046c2a",
   "metadata": {},
   "outputs": [
    {
     "data": {
      "text/plain": [
       "AT      0\n",
       "AP      0\n",
       "AH      0\n",
       "AFDP    0\n",
       "GTEP    0\n",
       "TIT     0\n",
       "TAT     0\n",
       "CDP     0\n",
       "CO      0\n",
       "NOX     0\n",
       "TEY     0\n",
       "dtype: int64"
      ]
     },
     "execution_count": 12,
     "metadata": {},
     "output_type": "execute_result"
    }
   ],
   "source": [
    "gt.isna().sum()"
   ]
  },
  {
   "cell_type": "code",
   "execution_count": 13,
   "id": "0e677f3c",
   "metadata": {},
   "outputs": [],
   "source": [
    "from sklearn.model_selection import train_test_split"
   ]
  },
  {
   "cell_type": "code",
   "execution_count": 14,
   "id": "5e052313",
   "metadata": {},
   "outputs": [],
   "source": [
    "x_train,x_test,y_train,y_test = train_test_split(x,y,test_size=0.2,random_state=10)"
   ]
  },
  {
   "cell_type": "markdown",
   "id": "b9feed4c",
   "metadata": {},
   "source": [
    "# Creating Model"
   ]
  },
  {
   "cell_type": "code",
   "execution_count": 15,
   "id": "47c76d72",
   "metadata": {},
   "outputs": [],
   "source": [
    "model = tf.keras.models.Sequential()\n",
    "model.add(tf.keras.layers.Dense(15,input_dim=10,activation='ReLU'))\n",
    "model.add(tf.keras.layers.Dense(10,activation='ReLU'))\n",
    "model.add(tf.keras.layers.Dense(1,activation='ReLU'))"
   ]
  },
  {
   "cell_type": "code",
   "execution_count": 16,
   "id": "d1e6dc5a",
   "metadata": {},
   "outputs": [
    {
     "name": "stdout",
     "output_type": "stream",
     "text": [
      "Model: \"sequential\"\n",
      "_________________________________________________________________\n",
      " Layer (type)                Output Shape              Param #   \n",
      "=================================================================\n",
      " dense (Dense)               (None, 15)                165       \n",
      "                                                                 \n",
      " dense_1 (Dense)             (None, 10)                160       \n",
      "                                                                 \n",
      " dense_2 (Dense)             (None, 1)                 11        \n",
      "                                                                 \n",
      "=================================================================\n",
      "Total params: 336\n",
      "Trainable params: 336\n",
      "Non-trainable params: 0\n",
      "_________________________________________________________________\n"
     ]
    }
   ],
   "source": [
    "model.summary()"
   ]
  },
  {
   "cell_type": "code",
   "execution_count": 17,
   "id": "9f016cfb",
   "metadata": {},
   "outputs": [],
   "source": [
    "#Cpmpile model\n",
    "model.compile(loss='mse',optimizer='adam',metrics=['mse','mae'])"
   ]
  },
  {
   "cell_type": "code",
   "execution_count": 18,
   "id": "92d3865c",
   "metadata": {},
   "outputs": [
    {
     "name": "stdout",
     "output_type": "stream",
     "text": [
      "Epoch 1/50\n",
      "13/13 [==============================] - 2s 46ms/step - loss: 276.4278 - mse: 276.4278 - mae: 12.4333 - val_loss: 261.4425 - val_mse: 261.4425 - val_mae: 12.8913\n",
      "Epoch 2/50\n",
      "13/13 [==============================] - 0s 10ms/step - loss: 257.2461 - mse: 257.2461 - mae: 12.0671 - val_loss: 249.5375 - val_mse: 249.5375 - val_mae: 12.4948\n",
      "Epoch 3/50\n",
      "13/13 [==============================] - 0s 10ms/step - loss: 243.1137 - mse: 243.1137 - mae: 11.6282 - val_loss: 233.9602 - val_mse: 233.9602 - val_mae: 11.0369\n",
      "Epoch 4/50\n",
      "13/13 [==============================] - 0s 10ms/step - loss: 233.4106 - mse: 233.4106 - mae: 11.2834 - val_loss: 221.5659 - val_mse: 221.5659 - val_mae: 10.7005\n",
      "Epoch 5/50\n",
      "13/13 [==============================] - 0s 10ms/step - loss: 219.1681 - mse: 219.1681 - mae: 11.0500 - val_loss: 212.8058 - val_mse: 212.8058 - val_mae: 11.7163\n",
      "Epoch 6/50\n",
      "13/13 [==============================] - 0s 9ms/step - loss: 206.2681 - mse: 206.2681 - mae: 10.8777 - val_loss: 195.2570 - val_mse: 195.2570 - val_mae: 10.1864\n",
      "Epoch 7/50\n",
      "13/13 [==============================] - 0s 9ms/step - loss: 193.9470 - mse: 193.9470 - mae: 10.3672 - val_loss: 183.6234 - val_mse: 183.6234 - val_mae: 9.6884\n",
      "Epoch 8/50\n",
      "13/13 [==============================] - 0s 10ms/step - loss: 179.9466 - mse: 179.9466 - mae: 10.0158 - val_loss: 189.1940 - val_mse: 189.1940 - val_mae: 11.8326\n",
      "Epoch 9/50\n",
      "13/13 [==============================] - 0s 9ms/step - loss: 171.0455 - mse: 171.0455 - mae: 10.1165 - val_loss: 157.4716 - val_mse: 157.4716 - val_mae: 9.3058\n",
      "Epoch 10/50\n",
      "13/13 [==============================] - 0s 9ms/step - loss: 154.3834 - mse: 154.3834 - mae: 9.2550 - val_loss: 145.3922 - val_mse: 145.3922 - val_mae: 9.1250\n",
      "Epoch 11/50\n",
      "13/13 [==============================] - 0s 10ms/step - loss: 141.3538 - mse: 141.3538 - mae: 9.0198 - val_loss: 134.1619 - val_mse: 134.1619 - val_mae: 9.0772\n",
      "Epoch 12/50\n",
      "13/13 [==============================] - 0s 9ms/step - loss: 129.2985 - mse: 129.2985 - mae: 8.6135 - val_loss: 121.2941 - val_mse: 121.2941 - val_mae: 8.4342\n",
      "Epoch 13/50\n",
      "13/13 [==============================] - 0s 10ms/step - loss: 117.0214 - mse: 117.0214 - mae: 8.1818 - val_loss: 120.0172 - val_mse: 120.0172 - val_mae: 9.3947\n",
      "Epoch 14/50\n",
      "13/13 [==============================] - 0s 9ms/step - loss: 114.1370 - mse: 114.1370 - mae: 8.5330 - val_loss: 111.7839 - val_mse: 111.7839 - val_mae: 7.3626\n",
      "Epoch 15/50\n",
      "13/13 [==============================] - 0s 9ms/step - loss: 100.9882 - mse: 100.9882 - mae: 7.5944 - val_loss: 92.8478 - val_mse: 92.8478 - val_mae: 7.9143\n",
      "Epoch 16/50\n",
      "13/13 [==============================] - 0s 10ms/step - loss: 88.2046 - mse: 88.2046 - mae: 7.1433 - val_loss: 82.4205 - val_mse: 82.4205 - val_mae: 7.2562\n",
      "Epoch 17/50\n",
      "13/13 [==============================] - 0s 10ms/step - loss: 79.6655 - mse: 79.6655 - mae: 6.9453 - val_loss: 76.3224 - val_mse: 76.3224 - val_mae: 6.2180\n",
      "Epoch 18/50\n",
      "13/13 [==============================] - 0s 10ms/step - loss: 72.2234 - mse: 72.2234 - mae: 6.4770 - val_loss: 66.7391 - val_mse: 66.7391 - val_mae: 6.5197\n",
      "Epoch 19/50\n",
      "13/13 [==============================] - 0s 10ms/step - loss: 63.6773 - mse: 63.6773 - mae: 6.1214 - val_loss: 59.5729 - val_mse: 59.5729 - val_mae: 6.1257\n",
      "Epoch 20/50\n",
      "13/13 [==============================] - 0s 9ms/step - loss: 56.9786 - mse: 56.9786 - mae: 5.8352 - val_loss: 52.5463 - val_mse: 52.5463 - val_mae: 5.4959\n",
      "Epoch 21/50\n",
      "13/13 [==============================] - 0s 9ms/step - loss: 50.4309 - mse: 50.4309 - mae: 5.4622 - val_loss: 47.0943 - val_mse: 47.0943 - val_mae: 5.4437\n",
      "Epoch 22/50\n",
      "13/13 [==============================] - 0s 9ms/step - loss: 45.1704 - mse: 45.1704 - mae: 5.1923 - val_loss: 42.6392 - val_mse: 42.6392 - val_mae: 4.7413\n",
      "Epoch 23/50\n",
      "13/13 [==============================] - 0s 10ms/step - loss: 40.0554 - mse: 40.0554 - mae: 4.8886 - val_loss: 37.8951 - val_mse: 37.8951 - val_mae: 4.4823\n",
      "Epoch 24/50\n",
      "13/13 [==============================] - 0s 10ms/step - loss: 35.9745 - mse: 35.9745 - mae: 4.6196 - val_loss: 32.6193 - val_mse: 32.6193 - val_mae: 4.3612\n",
      "Epoch 25/50\n",
      "13/13 [==============================] - 0s 9ms/step - loss: 31.6260 - mse: 31.6260 - mae: 4.3357 - val_loss: 29.6772 - val_mse: 29.6772 - val_mae: 4.3480\n",
      "Epoch 26/50\n",
      "13/13 [==============================] - 0s 10ms/step - loss: 28.5015 - mse: 28.5015 - mae: 4.1120 - val_loss: 27.2656 - val_mse: 27.2656 - val_mae: 4.2322\n",
      "Epoch 27/50\n",
      "13/13 [==============================] - 0s 10ms/step - loss: 25.2573 - mse: 25.2573 - mae: 3.8849 - val_loss: 23.3557 - val_mse: 23.3557 - val_mae: 3.6488\n",
      "Epoch 28/50\n",
      "13/13 [==============================] - 0s 10ms/step - loss: 22.7174 - mse: 22.7174 - mae: 3.6720 - val_loss: 23.0901 - val_mse: 23.0901 - val_mae: 3.5228\n",
      "Epoch 29/50\n",
      "13/13 [==============================] - 0s 10ms/step - loss: 21.3954 - mse: 21.3954 - mae: 3.5604 - val_loss: 19.0339 - val_mse: 19.0339 - val_mae: 3.3061\n",
      "Epoch 30/50\n",
      "13/13 [==============================] - 0s 9ms/step - loss: 18.5243 - mse: 18.5243 - mae: 3.3053 - val_loss: 17.1846 - val_mse: 17.1846 - val_mae: 3.2057\n",
      "Epoch 31/50\n",
      "13/13 [==============================] - 0s 10ms/step - loss: 16.9351 - mse: 16.9351 - mae: 3.1636 - val_loss: 15.5706 - val_mse: 15.5706 - val_mae: 3.0357\n",
      "Epoch 32/50\n",
      "13/13 [==============================] - 0s 10ms/step - loss: 15.4298 - mse: 15.4298 - mae: 3.0113 - val_loss: 14.2084 - val_mse: 14.2084 - val_mae: 2.8891\n",
      "Epoch 33/50\n",
      "13/13 [==============================] - 0s 9ms/step - loss: 14.1742 - mse: 14.1742 - mae: 2.8813 - val_loss: 13.4803 - val_mse: 13.4803 - val_mae: 2.8610\n",
      "Epoch 34/50\n",
      "13/13 [==============================] - 0s 9ms/step - loss: 13.4116 - mse: 13.4116 - mae: 2.8060 - val_loss: 12.1673 - val_mse: 12.1673 - val_mae: 2.6523\n",
      "Epoch 35/50\n",
      "13/13 [==============================] - 0s 10ms/step - loss: 12.2569 - mse: 12.2569 - mae: 2.6689 - val_loss: 12.9598 - val_mse: 12.9598 - val_mae: 2.7275\n",
      "Epoch 36/50\n",
      "13/13 [==============================] - 0s 9ms/step - loss: 12.0036 - mse: 12.0036 - mae: 2.6465 - val_loss: 11.4510 - val_mse: 11.4510 - val_mae: 2.6321\n",
      "Epoch 37/50\n",
      "13/13 [==============================] - 0s 8ms/step - loss: 11.0569 - mse: 11.0569 - mae: 2.5355 - val_loss: 10.4309 - val_mse: 10.4309 - val_mae: 2.4548\n",
      "Epoch 38/50\n",
      "13/13 [==============================] - 0s 9ms/step - loss: 10.6028 - mse: 10.6028 - mae: 2.4769 - val_loss: 9.3069 - val_mse: 9.3069 - val_mae: 2.3353\n",
      "Epoch 39/50\n",
      "13/13 [==============================] - 0s 9ms/step - loss: 9.9642 - mse: 9.9642 - mae: 2.3943 - val_loss: 8.7528 - val_mse: 8.7528 - val_mae: 2.2430\n",
      "Epoch 40/50\n",
      "13/13 [==============================] - 0s 9ms/step - loss: 9.0853 - mse: 9.0853 - mae: 2.2770 - val_loss: 8.2543 - val_mse: 8.2543 - val_mae: 2.1850\n",
      "Epoch 41/50\n",
      "13/13 [==============================] - 0s 9ms/step - loss: 8.6751 - mse: 8.6751 - mae: 2.2217 - val_loss: 7.6789 - val_mse: 7.6789 - val_mae: 2.0993\n",
      "Epoch 42/50\n",
      "13/13 [==============================] - 0s 8ms/step - loss: 8.1938 - mse: 8.1938 - mae: 2.1550 - val_loss: 7.6588 - val_mse: 7.6588 - val_mae: 2.0960\n",
      "Epoch 43/50\n",
      "13/13 [==============================] - 0s 9ms/step - loss: 7.7629 - mse: 7.7629 - mae: 2.0915 - val_loss: 7.8160 - val_mse: 7.8160 - val_mae: 2.1199\n",
      "Epoch 44/50\n",
      "13/13 [==============================] - 0s 9ms/step - loss: 7.6300 - mse: 7.6300 - mae: 2.0695 - val_loss: 6.7256 - val_mse: 6.7256 - val_mae: 1.9541\n",
      "Epoch 45/50\n",
      "13/13 [==============================] - 0s 8ms/step - loss: 7.1047 - mse: 7.1047 - mae: 1.9927 - val_loss: 7.0299 - val_mse: 7.0299 - val_mae: 1.9957\n",
      "Epoch 46/50\n",
      "13/13 [==============================] - 0s 9ms/step - loss: 6.8918 - mse: 6.8918 - mae: 1.9555 - val_loss: 7.4483 - val_mse: 7.4483 - val_mae: 2.0818\n",
      "Epoch 47/50\n",
      "13/13 [==============================] - 0s 9ms/step - loss: 7.0150 - mse: 7.0150 - mae: 1.9764 - val_loss: 6.5034 - val_mse: 6.5034 - val_mae: 1.9080\n",
      "Epoch 48/50\n",
      "13/13 [==============================] - 0s 9ms/step - loss: 6.6967 - mse: 6.6967 - mae: 1.9283 - val_loss: 6.0025 - val_mse: 6.0025 - val_mae: 1.8400\n",
      "Epoch 49/50\n",
      "13/13 [==============================] - 0s 9ms/step - loss: 6.3838 - mse: 6.3838 - mae: 1.8864 - val_loss: 6.1757 - val_mse: 6.1757 - val_mae: 1.8547\n"
     ]
    },
    {
     "name": "stdout",
     "output_type": "stream",
     "text": [
      "Epoch 50/50\n",
      "13/13 [==============================] - 0s 9ms/step - loss: 6.1761 - mse: 6.1761 - mae: 1.8418 - val_loss: 7.1818 - val_mse: 7.1818 - val_mae: 2.0603\n"
     ]
    }
   ],
   "source": [
    "#Fit the model\n",
    "history = model.fit(x_train,y_train,validation_data=(x_test,y_test),epochs=50,batch_size=1000)"
   ]
  },
  {
   "cell_type": "code",
   "execution_count": 19,
   "id": "9f047132",
   "metadata": {},
   "outputs": [],
   "source": [
    "model.save_weights(\"mywt.kmw\")"
   ]
  },
  {
   "cell_type": "code",
   "execution_count": 20,
   "id": "94d1a266",
   "metadata": {},
   "outputs": [
    {
     "name": "stdout",
     "output_type": "stream",
     "text": [
      "376/376 [==============================] - 1s 3ms/step - loss: 7.5141 - mse: 7.5141 - mae: 2.0971\n",
      "mse: 751.41%\n"
     ]
    }
   ],
   "source": [
    "#evaluate the model\n",
    "scores = model.evaluate(x_train,y_train)\n",
    "print(\"%s: %.2f%%\" % (model.metrics_names[1], scores[1]*100))"
   ]
  },
  {
   "cell_type": "code",
   "execution_count": 21,
   "id": "64d7582d",
   "metadata": {},
   "outputs": [],
   "source": [
    "#Visualize training history\n",
    "#list all data in history\n",
    "\n",
    "model.history.history.keys()\n",
    "import matplotlib.pyplot as plt"
   ]
  },
  {
   "cell_type": "code",
   "execution_count": 22,
   "id": "5594fb86",
   "metadata": {},
   "outputs": [
    {
     "data": {
      "text/plain": [
       "dict_keys(['loss', 'mse', 'mae', 'val_loss', 'val_mse', 'val_mae'])"
      ]
     },
     "execution_count": 22,
     "metadata": {},
     "output_type": "execute_result"
    }
   ],
   "source": [
    "history.history.keys()"
   ]
  },
  {
   "cell_type": "code",
   "execution_count": 23,
   "id": "c43ffe52",
   "metadata": {},
   "outputs": [
    {
     "data": {
      "image/png": "[encoded data removed]",
      "text/plain": [
       "<Figure size 432x288 with 1 Axes>"
      ]
     },
     "metadata": {
      "needs_background": "light"
     },
     "output_type": "display_data"
    }
   ],
   "source": [
    "plt.plot(history.history['mse'])\n",
    "plt.plot(history.history['val_mse'])\n",
    "plt.title('model mse')\n",
    "plt.ylabel('mse')\n",
    "plt.xlabel('epoch')\n",
    "plt.legend(['train','test'],loc='upper left')\n",
    "plt.show()"
   ]
  },
  {
   "cell_type": "code",
   "execution_count": 24,
   "id": "add2bf5d",
   "metadata": {},
   "outputs": [
    {
     "data": {
      "image/png": "[encoded data removed]",
      "text/plain": [
       "<Figure size 432x288 with 1 Axes>"
      ]
     },
     "metadata": {
      "needs_background": "light"
     },
     "output_type": "display_data"
    }
   ],
   "source": [
    "plt.plot(history.history['mae'])\n",
    "plt.plot(history.history['val_mae'])\n",
    "plt.title('model mae')\n",
    "plt.ylabel('mae')\n",
    "plt.xlabel('epoch')\n",
    "plt.legend(['train', 'test'], loc='upper left')\n",
    "plt.show()"
   ]
  },
  {
   "cell_type": "code",
   "execution_count": 25,
   "id": "191eb4ea",
   "metadata": {},
   "outputs": [
    {
     "data": {
      "image/png": "[encoded data removed]",
      "text/plain": [
       "<Figure size 432x288 with 1 Axes>"
      ]
     },
     "metadata": {
      "needs_background": "light"
     },
     "output_type": "display_data"
    }
   ],
   "source": [
    "# summarize history for loss\n",
    "plt.plot(history.history['loss'])\n",
    "plt.plot(history.history['val_loss'])\n",
    "plt.title('model loss')\n",
    "plt.ylabel('loss')\n",
    "plt.xlabel('epoch')\n",
    "plt.legend(['train', 'test'], loc='upper left')\n",
    "plt.show()"
   ]
  },
  {
   "cell_type": "code",
   "execution_count": 26,
   "id": "7d3f47ce",
   "metadata": {},
   "outputs": [
    {
     "name": "stdout",
     "output_type": "stream",
     "text": [
      "376/376 [==============================] - 1s 2ms/step\n",
      "94/94 [==============================] - 0s 3ms/step\n",
      "Training set rmse: 2.741, Testing set rmse: 2.680\n"
     ]
    }
   ],
   "source": [
    "# evaluate the model\n",
    "\n",
    "y_train_pred = model.predict(x_train)\n",
    "y_test_pred = model.predict(x_test)\n",
    "\n",
    "from sklearn.metrics import mean_squared_error\n",
    "\n",
    "train_rmse = mean_squared_error(y_train,y_train_pred,squared=False)\n",
    "test_rmse = mean_squared_error(y_test,y_test_pred,squared=False)\n",
    "\n",
    "print('Training set rmse: %.3f, Testing set rmse: %.3f' % (train_rmse,test_rmse))"
   ]
  },
  {
   "cell_type": "markdown",
   "id": "36e2cca8",
   "metadata": {},
   "source": [
    "# Randomzied SearchCV"
   ]
  },
  {
   "cell_type": "code",
   "execution_count": 27,
   "id": "ccc2fd86",
   "metadata": {},
   "outputs": [],
   "source": [
    "from sklearn.model_selection import RandomizedSearchCV, KFold\n",
    "from keras.optimizers import Adam\n",
    "from keras.wrappers.scikit_learn import KerasRegressor"
   ]
  },
  {
   "cell_type": "code",
   "execution_count": 28,
   "id": "88a1e6d6",
   "metadata": {},
   "outputs": [],
   "source": [
    "# Building a keras regression model\n",
    "\n",
    "def keras_reg_model(learning_rate,activation_function,init,neuron1,neuron2):\n",
    "    model = tf.keras.models.Sequential()\n",
    "    model.add(tf.keras.layers.Dense(neuron1,input_dim = 10,kernel_initializer = init,activation = activation_function))\n",
    "    model.add(tf.keras.layers.Dense(neuron2,input_dim = neuron1,kernel_initializer = init,activation = activation_function))\n",
    "    model.add(tf.keras.layers.Dense(1,activation = 'linear'))\n",
    "    adam = Adam(lr = learning_rate)\n",
    "    model.compile(loss = 'mse',optimizer = adam,metrics = ['mse','mae'])\n",
    "    return model"
   ]
  },
  {
   "cell_type": "code",
   "execution_count": 29,
   "id": "8a290320",
   "metadata": {},
   "outputs": [],
   "source": [
    "# Wrapping the keras model in a object\n",
    "\n",
    "keras_reg = KerasRegressor(build_fn = keras_reg_model,verbose = 0)"
   ]
  },
  {
   "cell_type": "code",
   "execution_count": 30,
   "id": "c83459f0",
   "metadata": {},
   "outputs": [
    {
     "name": "stdout",
     "output_type": "stream",
     "text": [
      "Fitting 5 folds for each of 10 candidates, totalling 50 fits\n"
     ]
    }
   ],
   "source": [
    "# Define the search parameters\n",
    "\n",
    "batch_size = [10,50,100,500,1000,2000]\n",
    "epochs = [25,50,80,100,150]\n",
    "learning_rate = [0.001,0.01,0.1]\n",
    "\n",
    "activation_function = ['elu','relu','linear']\n",
    "init = ['uniform','normal','zero']\n",
    "neuron1 = [5,10,20,30]\n",
    "neuron2 = [5,10,20,30]\n",
    "\n",
    "\n",
    "# Create a dictionary of the parameters\n",
    "param_grids = dict(batch_size = batch_size,epochs = epochs,learning_rate = learning_rate,\n",
    "                   activation_function = activation_function,init = init,neuron1 = neuron1,neuron2 = neuron2)\n",
    "\n",
    "\n",
    "# Build and fit the RandomizedSearchCV\n",
    "random_search = RandomizedSearchCV(estimator = keras_reg,param_distributions = param_grids,cv = 5,n_jobs=-1,verbose = 10,\n",
    "                                   random_state=40)\n",
    "random_result = random_search.fit(x_train,y_train)"
   ]
  },
  {
   "cell_type": "code",
   "execution_count": 31,
   "id": "6b48c4fe",
   "metadata": {},
   "outputs": [
    {
     "name": "stdout",
     "output_type": "stream",
     "text": [
      "Best score: -3.4350714683532715\n",
      "Best parameters: {'neuron2': 30, 'neuron1': 10, 'learning_rate': 0.01, 'init': 'normal', 'epochs': 50, 'batch_size': 100, 'activation_function': 'linear'}\n"
     ]
    }
   ],
   "source": [
    "# Summarize the results\n",
    "print('Best score:',random_result.best_score_)\n",
    "print('Best parameters:',random_result.best_params_)"
   ]
  },
  {
   "cell_type": "code",
   "execution_count": 32,
   "id": "9800efcc",
   "metadata": {},
   "outputs": [
    {
     "name": "stdout",
     "output_type": "stream",
     "text": [
      "Epoch 1/50\n",
      "121/121 [==============================] - 2s 7ms/step - loss: 410.5327 - mse: 410.5327 - mae: 14.0478 - val_loss: 155.0907 - val_mse: 155.0907 - val_mae: 9.8240\n",
      "Epoch 2/50\n",
      "121/121 [==============================] - 1s 4ms/step - loss: 75.0264 - mse: 75.0264 - mae: 6.3083 - val_loss: 19.7030 - val_mse: 19.7030 - val_mae: 3.3169\n",
      "Epoch 3/50\n",
      "121/121 [==============================] - 1s 4ms/step - loss: 20.8686 - mse: 20.8686 - mae: 3.3557 - val_loss: 10.6341 - val_mse: 10.6341 - val_mae: 2.6780\n",
      "Epoch 4/50\n",
      "121/121 [==============================] - 1s 4ms/step - loss: 11.4385 - mse: 11.4385 - mae: 2.6545 - val_loss: 40.2673 - val_mse: 40.2673 - val_mae: 6.1235\n",
      "Epoch 5/50\n",
      "121/121 [==============================] - 0s 4ms/step - loss: 9.7702 - mse: 9.7702 - mae: 2.4526 - val_loss: 35.6639 - val_mse: 35.6639 - val_mae: 5.7321\n",
      "Epoch 6/50\n",
      "121/121 [==============================] - 0s 4ms/step - loss: 9.1843 - mse: 9.1843 - mae: 2.3615 - val_loss: 12.1687 - val_mse: 12.1687 - val_mae: 3.1481\n",
      "Epoch 7/50\n",
      "121/121 [==============================] - 1s 4ms/step - loss: 6.6177 - mse: 6.6177 - mae: 2.0572 - val_loss: 6.5205 - val_mse: 6.5205 - val_mae: 2.1721\n",
      "Epoch 8/50\n",
      "121/121 [==============================] - 1s 4ms/step - loss: 8.7281 - mse: 8.7281 - mae: 2.3420 - val_loss: 13.6309 - val_mse: 13.6309 - val_mae: 3.3680\n",
      "Epoch 9/50\n",
      "121/121 [==============================] - 1s 4ms/step - loss: 7.7072 - mse: 7.7072 - mae: 2.1309 - val_loss: 2.0350 - val_mse: 2.0350 - val_mae: 1.0963\n",
      "Epoch 10/50\n",
      "121/121 [==============================] - 1s 4ms/step - loss: 6.6396 - mse: 6.6396 - mae: 2.1041 - val_loss: 5.2796 - val_mse: 5.2796 - val_mae: 1.9358\n",
      "Epoch 11/50\n",
      "121/121 [==============================] - 1s 4ms/step - loss: 5.2553 - mse: 5.2553 - mae: 1.8199 - val_loss: 11.8205 - val_mse: 11.8205 - val_mae: 3.1818\n",
      "Epoch 12/50\n",
      "121/121 [==============================] - 1s 4ms/step - loss: 6.6833 - mse: 6.6833 - mae: 2.0408 - val_loss: 1.9320 - val_mse: 1.9320 - val_mae: 1.1030\n",
      "Epoch 13/50\n",
      "121/121 [==============================] - 1s 4ms/step - loss: 5.8478 - mse: 5.8478 - mae: 1.9621 - val_loss: 2.7193 - val_mse: 2.7193 - val_mae: 1.3536\n",
      "Epoch 14/50\n",
      "121/121 [==============================] - 1s 4ms/step - loss: 8.1412 - mse: 8.1412 - mae: 2.3143 - val_loss: 2.5435 - val_mse: 2.5435 - val_mae: 1.2975\n",
      "Epoch 15/50\n",
      "121/121 [==============================] - 0s 4ms/step - loss: 5.0865 - mse: 5.0865 - mae: 1.7491 - val_loss: 16.2818 - val_mse: 16.2818 - val_mae: 3.8417\n",
      "Epoch 16/50\n",
      "121/121 [==============================] - 0s 4ms/step - loss: 9.4733 - mse: 9.4733 - mae: 2.5141 - val_loss: 3.7852 - val_mse: 3.7852 - val_mae: 1.5998\n",
      "Epoch 17/50\n",
      "121/121 [==============================] - 1s 4ms/step - loss: 6.9670 - mse: 6.9670 - mae: 2.1408 - val_loss: 17.5644 - val_mse: 17.5644 - val_mae: 4.0069\n",
      "Epoch 18/50\n",
      "121/121 [==============================] - 1s 4ms/step - loss: 6.2819 - mse: 6.2819 - mae: 2.0446 - val_loss: 11.8840 - val_mse: 11.8840 - val_mae: 3.2212\n",
      "Epoch 19/50\n",
      "121/121 [==============================] - 1s 4ms/step - loss: 6.0323 - mse: 6.0323 - mae: 1.9543 - val_loss: 4.6284 - val_mse: 4.6284 - val_mae: 1.8354\n",
      "Epoch 20/50\n",
      "121/121 [==============================] - 1s 4ms/step - loss: 4.9970 - mse: 4.9970 - mae: 1.7376 - val_loss: 1.4694 - val_mse: 1.4694 - val_mae: 0.9331\n",
      "Epoch 21/50\n",
      "121/121 [==============================] - 1s 4ms/step - loss: 3.7463 - mse: 3.7463 - mae: 1.5233 - val_loss: 3.5066 - val_mse: 3.5066 - val_mae: 1.6041\n",
      "Epoch 22/50\n",
      "121/121 [==============================] - 1s 4ms/step - loss: 7.6588 - mse: 7.6588 - mae: 2.2939 - val_loss: 1.7943 - val_mse: 1.7943 - val_mae: 1.0226\n",
      "Epoch 23/50\n",
      "121/121 [==============================] - 1s 4ms/step - loss: 5.5119 - mse: 5.5119 - mae: 1.8292 - val_loss: 8.1436 - val_mse: 8.1436 - val_mae: 2.5731\n",
      "Epoch 24/50\n",
      "121/121 [==============================] - 1s 4ms/step - loss: 6.7706 - mse: 6.7706 - mae: 2.1451 - val_loss: 12.5573 - val_mse: 12.5573 - val_mae: 3.3212\n",
      "Epoch 25/50\n",
      "121/121 [==============================] - 1s 4ms/step - loss: 6.9583 - mse: 6.9583 - mae: 2.1780 - val_loss: 24.3979 - val_mse: 24.3979 - val_mae: 4.7913\n",
      "Epoch 26/50\n",
      "121/121 [==============================] - 1s 4ms/step - loss: 5.8931 - mse: 5.8931 - mae: 1.9565 - val_loss: 1.3741 - val_mse: 1.3741 - val_mae: 0.8970\n",
      "Epoch 27/50\n",
      "121/121 [==============================] - 1s 4ms/step - loss: 4.8866 - mse: 4.8866 - mae: 1.7211 - val_loss: 10.6691 - val_mse: 10.6691 - val_mae: 3.0378\n",
      "Epoch 28/50\n",
      "121/121 [==============================] - 1s 4ms/step - loss: 7.8324 - mse: 7.8324 - mae: 2.3098 - val_loss: 9.9936 - val_mse: 9.9936 - val_mae: 2.9351\n",
      "Epoch 29/50\n",
      "121/121 [==============================] - 1s 4ms/step - loss: 4.7538 - mse: 4.7539 - mae: 1.7291 - val_loss: 4.8593 - val_mse: 4.8593 - val_mae: 1.9330\n",
      "Epoch 30/50\n",
      "121/121 [==============================] - 0s 4ms/step - loss: 4.3191 - mse: 4.3191 - mae: 1.6368 - val_loss: 1.5404 - val_mse: 1.5404 - val_mae: 0.9797\n",
      "Epoch 31/50\n",
      "121/121 [==============================] - 1s 4ms/step - loss: 4.8423 - mse: 4.8423 - mae: 1.8148 - val_loss: 5.9921 - val_mse: 5.9921 - val_mae: 2.1840\n",
      "Epoch 32/50\n",
      "121/121 [==============================] - 0s 4ms/step - loss: 6.4327 - mse: 6.4327 - mae: 2.0752 - val_loss: 1.5851 - val_mse: 1.5851 - val_mae: 0.9631\n",
      "Epoch 33/50\n",
      "121/121 [==============================] - 1s 4ms/step - loss: 5.3818 - mse: 5.3818 - mae: 1.8934 - val_loss: 15.6804 - val_mse: 15.6804 - val_mae: 3.7959\n",
      "Epoch 34/50\n",
      "121/121 [==============================] - 1s 4ms/step - loss: 4.5052 - mse: 4.5052 - mae: 1.6579 - val_loss: 22.7818 - val_mse: 22.7818 - val_mae: 4.6396\n",
      "Epoch 35/50\n",
      "121/121 [==============================] - 1s 4ms/step - loss: 4.3615 - mse: 4.3615 - mae: 1.6819 - val_loss: 1.7869 - val_mse: 1.7869 - val_mae: 1.0294\n",
      "Epoch 36/50\n",
      "121/121 [==============================] - 1s 4ms/step - loss: 4.0860 - mse: 4.0860 - mae: 1.6036 - val_loss: 2.1257 - val_mse: 2.1257 - val_mae: 1.1890\n",
      "Epoch 37/50\n",
      "121/121 [==============================] - 1s 4ms/step - loss: 6.0377 - mse: 6.0377 - mae: 1.9044 - val_loss: 1.3828 - val_mse: 1.3828 - val_mae: 0.9173\n",
      "Epoch 38/50\n",
      "121/121 [==============================] - 1s 4ms/step - loss: 6.5130 - mse: 6.5130 - mae: 2.0399 - val_loss: 1.5094 - val_mse: 1.5094 - val_mae: 0.9670\n",
      "Epoch 39/50\n",
      "121/121 [==============================] - 1s 5ms/step - loss: 5.3945 - mse: 5.3945 - mae: 1.8732 - val_loss: 1.3954 - val_mse: 1.3954 - val_mae: 0.9241\n",
      "Epoch 40/50\n",
      "121/121 [==============================] - 0s 3ms/step - loss: 3.9388 - mse: 3.9388 - mae: 1.5838 - val_loss: 3.4586 - val_mse: 3.4586 - val_mae: 1.5936\n",
      "Epoch 41/50\n",
      "121/121 [==============================] - 0s 3ms/step - loss: 3.7271 - mse: 3.7271 - mae: 1.5177 - val_loss: 7.5182 - val_mse: 7.5182 - val_mae: 2.5156\n",
      "Epoch 42/50\n",
      "121/121 [==============================] - 0s 3ms/step - loss: 4.4384 - mse: 4.4384 - mae: 1.6480 - val_loss: 1.9578 - val_mse: 1.9578 - val_mae: 1.0796\n",
      "Epoch 43/50\n",
      "121/121 [==============================] - 0s 3ms/step - loss: 5.0116 - mse: 5.0116 - mae: 1.8324 - val_loss: 1.5411 - val_mse: 1.5411 - val_mae: 0.9805\n",
      "Epoch 44/50\n",
      "121/121 [==============================] - 0s 4ms/step - loss: 4.3723 - mse: 4.3723 - mae: 1.6639 - val_loss: 1.2821 - val_mse: 1.2821 - val_mae: 0.8721\n",
      "Epoch 45/50\n",
      "121/121 [==============================] - 0s 3ms/step - loss: 4.4741 - mse: 4.4741 - mae: 1.7022 - val_loss: 2.6134 - val_mse: 2.6134 - val_mae: 1.3414\n",
      "Epoch 46/50\n",
      "121/121 [==============================] - 0s 4ms/step - loss: 4.9085 - mse: 4.9085 - mae: 1.7630 - val_loss: 7.5980 - val_mse: 7.5980 - val_mae: 2.5326\n",
      "Epoch 47/50\n",
      "121/121 [==============================] - 0s 4ms/step - loss: 4.4159 - mse: 4.4159 - mae: 1.6877 - val_loss: 3.5100 - val_mse: 3.5100 - val_mae: 1.5751\n",
      "Epoch 48/50\n",
      "121/121 [==============================] - 0s 3ms/step - loss: 4.1790 - mse: 4.1790 - mae: 1.6389 - val_loss: 19.7626 - val_mse: 19.7626 - val_mae: 4.2882\n",
      "Epoch 49/50\n",
      "121/121 [==============================] - 0s 4ms/step - loss: 6.3967 - mse: 6.3967 - mae: 2.0265 - val_loss: 1.4527 - val_mse: 1.4527 - val_mae: 0.9198\n",
      "Epoch 50/50\n",
      "121/121 [==============================] - 0s 4ms/step - loss: 2.8472 - mse: 2.8472 - mae: 1.3155 - val_loss: 3.9301 - val_mse: 3.9301 - val_mae: 1.6946\n"
     ]
    }
   ],
   "source": [
    "## storing the best parameters in a variable\n",
    "## fitting the model with best parameters\n",
    "\n",
    "d1= random_result.best_params_\n",
    "\n",
    "keras_tuned=keras_reg_model(learning_rate=d1['learning_rate'],activation_function=d1['activation_function'],init=d1['init'],\n",
    "                                                                                       neuron1=d1['neuron1'],neuron2=d1['neuron2'])\n",
    "\n",
    "# Training and evaluating the model\n",
    "history2=keras_tuned.fit(x_train, y_train, validation_data=(x_test,y_test),\n",
    "                         epochs =d1['epochs'], batch_size=d1['batch_size'])"
   ]
  },
  {
   "cell_type": "code",
   "execution_count": 33,
   "id": "d3f3545f",
   "metadata": {},
   "outputs": [
    {
     "name": "stdout",
     "output_type": "stream",
     "text": [
      "376/376 [==============================] - 1s 2ms/step\n",
      "94/94 [==============================] - 0s 2ms/step\n",
      "Training set rmse : 1.958, Testing set rmse: 1.982\n"
     ]
    }
   ],
   "source": [
    "# evaluate the model\n",
    "\n",
    "y_train_pred_tuned= keras_tuned.predict(x_train)\n",
    "y_test_pred_tuned= keras_tuned.predict(x_test)\n",
    "\n",
    "from sklearn.metrics import mean_squared_error\n",
    "\n",
    "train_rmse_tuned = mean_squared_error(y_train,y_train_pred_tuned,squared=False)\n",
    "test_rmse_tuned = mean_squared_error(y_test, y_test_pred_tuned,squared=False)\n",
    "\n",
    "print('Training set rmse : %.3f, Testing set rmse: %.3f' % (train_rmse_tuned, test_rmse_tuned))"
   ]
  },
  {
   "cell_type": "code",
   "execution_count": 34,
   "id": "f98fd982",
   "metadata": {},
   "outputs": [
    {
     "data": {
      "text/html": [
       "<div>\n",
       "<style scoped>\n",
       "    .dataframe tbody tr th:only-of-type {\n",
       "        vertical-align: middle;\n",
       "    }\n",
       "\n",
       "    .dataframe tbody tr th {\n",
       "        vertical-align: top;\n",
       "    }\n",
       "\n",
       "    .dataframe thead th {\n",
       "        text-align: right;\n",
       "    }\n",
       "</style>\n",
       "<table border=\"1\" class=\"dataframe\">\n",
       "  <thead>\n",
       "    <tr style=\"text-align: right;\">\n",
       "      <th></th>\n",
       "      <th>models</th>\n",
       "      <th>train rmse</th>\n",
       "      <th>test rmse</th>\n",
       "    </tr>\n",
       "  </thead>\n",
       "  <tbody>\n",
       "    <tr>\n",
       "      <th>0</th>\n",
       "      <td>base model</td>\n",
       "      <td>2.741183</td>\n",
       "      <td>2.679883</td>\n",
       "    </tr>\n",
       "    <tr>\n",
       "      <th>1</th>\n",
       "      <td>tuned model</td>\n",
       "      <td>1.957851</td>\n",
       "      <td>1.982437</td>\n",
       "    </tr>\n",
       "  </tbody>\n",
       "</table>\n",
       "</div>"
      ],
      "text/plain": [
       "        models  train rmse  test rmse\n",
       "0   base model    2.741183   2.679883\n",
       "1  tuned model    1.957851   1.982437"
      ]
     },
     "execution_count": 34,
     "metadata": {},
     "output_type": "execute_result"
    }
   ],
   "source": [
    "result=pd.DataFrame({'models':['base model','tuned model'],'train rmse':[train_rmse,train_rmse_tuned],\n",
    "                     'test rmse':[test_rmse,test_rmse_tuned]})\n",
    "result"
   ]
  },
  {
   "cell_type": "markdown",
   "id": "92a27890",
   "metadata": {},
   "source": [
    "For both base model and tuned model, the difference between rmse for train and test set is very low indicating almost no overfitting.\n",
    "\n",
    "For tuned model,the rmse has decreased compared to base model suggesting that hypertuning parameters has increased the efficiency of this regression model"
   ]
  }
 ],
 "metadata": {
  "kernelspec": {
   "display_name": "Python 3 (ipykernel)",
   "language": "python",
   "name": "python3"
  },
  "language_info": {
   "codemirror_mode": {
    "name": "ipython",
    "version": 3
   },
   "file_extension": ".py",
   "mimetype": "text/x-python",
   "name": "python",
   "nbconvert_exporter": "python",
   "pygments_lexer": "ipython3",
   "version": "3.9.13"
  }
 },
 "nbformat": 4,
 "nbformat_minor": 5
}
